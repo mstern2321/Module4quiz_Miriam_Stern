{
  "cells": [
    {
      "cell_type": "markdown",
      "id": "6e143f87",
      "metadata": {
        "id": "6e143f87"
      },
      "source": [
        "# Intro Loops Mini‑Exam — All Coding (5 Questions)\n",
        "**Topics:** `for`, `while`, `range`, `break`, `continue`, basic `if/else`, optional `try/except`\n",
        "\n",
        "### Rules\n",
        "- Use `range` where helpful.\n",
        "- **Do not use** `enumerate`, list comprehensions, or **nested loops**.\n",
        "- You may use simple `try/except` for input validation where the prompt asks for it.\n",
        "- Keep code clear and commented (brief intent comments are enough).\n",
        "\n",
        "### What to Submit\n",
        "- Complete the five problems below in the provided code cells.\n",
        "- Do **not** modify the problem statements.\n",
        "- Run each cell to ensure it executes (no crashes on valid inputs).\n",
        "\n",
        "### Academic Honesty\n",
        "- Write your own code. Keep solutions simple and readable.\n"
      ]
    },
    {
      "cell_type": "markdown",
      "id": "b26ce537",
      "metadata": {
        "id": "b26ce537"
      },
      "source": [
        "## 1) Count Up (for + range)\n",
        "Ask the user for a **positive integer `n`**. Print the numbers **1..n** on **one line** separated by spaces.\n",
        "- Use a `for` loop with `range`.\n",
        "- If the input isn’t a positive integer, print a friendly error and stop.\n"
      ]
    },
    {
      "cell_type": "code",
      "execution_count": 56,
      "id": "238370a9",
      "metadata": {
        "id": "238370a9",
        "problem": 1,
        "outputId": "5657a51e-5d98-47b0-8381-cbf90c472e08",
        "colab": {
          "base_uri": "https://localhost:8080/"
        }
      },
      "outputs": [
        {
          "output_type": "stream",
          "name": "stdout",
          "text": [
            "Enter a positive integer: 7\n",
            "1 2 3 4 5 6 7 "
          ]
        }
      ],
      "source": [
        "# Write your solution here\n",
        "\n",
        "# Prompts user to enter a positive number.\n",
        "n = int(input(\"Enter a positive integer: \"))\n",
        "\n",
        "if n <= 0:\n",
        "        print(\"Invalid input.\") # Stops code if user doesn't enter a positive integer.\n",
        "\n",
        "# Prints a list of numbers on a single line.\n",
        "for num in range(1, n + 1):\n",
        "    print(num, end=\" \")\n",
        ""
      ]
    },
    {
      "cell_type": "markdown",
      "id": "2afee823",
      "metadata": {
        "id": "2afee823"
      },
      "source": [
        "## 2) Sum of Squares (for)\n",
        "Ask for a **positive integer `n`**. Compute and print **`1^2 + 2^2 + … + n^2`**.\n",
        "- Use a `for` loop.\n",
        "- Validate input (print an error and stop if invalid).\n"
      ]
    },
    {
      "cell_type": "code",
      "execution_count": 60,
      "id": "0f0ed988",
      "metadata": {
        "id": "0f0ed988",
        "problem": 2,
        "outputId": "5e2b1b00-ced5-409d-c727-c830b8d156f1",
        "colab": {
          "base_uri": "https://localhost:8080/"
        }
      },
      "outputs": [
        {
          "output_type": "stream",
          "name": "stdout",
          "text": [
            "Enter a positive integer: 8\n",
            "1 256 6561 65536 390625 1679616 5764801 16777216 "
          ]
        }
      ],
      "source": [
        "# Write your solution here\n",
        "\n",
        "# Prompts user to enter a positive integer.\n",
        "n = int(input(\"Enter a positive integer: \"))\n",
        "\n",
        "# If user doesn't enter a positive integer, it will print an error and stop code.\n",
        "if n <= 0:\n",
        "          print(\"Invalid input.\")\n",
        "\n",
        "# List of squared numbers based on users input.\n",
        "for num in range(1, n + 1):\n",
        "      square = num ** n\n",
        "      print(square, end=\" \")\n",
        ""
      ]
    },
    {
      "cell_type": "code",
      "source": [
        "n = int(input(\"Enter a positive integer: \"))\n",
        "if n <= 0:\n",
        "          print(\"Invalid input.\")\n",
        "a = 0\n",
        "for num in range(1, n + 1):\n",
        "      square = num ** n\n",
        "square += a\n",
        "print(square, end=\" \")\n",
        ""
      ],
      "metadata": {
        "id": "9en9wKAhGsqd",
        "outputId": "55af60fa-1a4b-49a0-a644-c0e695ae4412",
        "colab": {
          "base_uri": "https://localhost:8080/"
        }
      },
      "id": "9en9wKAhGsqd",
      "execution_count": 61,
      "outputs": [
        {
          "output_type": "stream",
          "name": "stdout",
          "text": [
            "Enter a positive integer: 8\n",
            "16777216 "
          ]
        }
      ]
    },
    {
      "cell_type": "markdown",
      "source": [
        "I wasn't sure if you wanted us to figure out the total or just list the numbers so I did both."
      ],
      "metadata": {
        "id": "KlYrWLggGhdP"
      },
      "id": "KlYrWLggGhdP"
    },
    {
      "cell_type": "markdown",
      "id": "13dd0fd1",
      "metadata": {
        "id": "13dd0fd1"
      },
      "source": [
        "## 3) Min/Max with “done” (while + try/except)\n",
        "Repeatedly read integers until the user types **`done`**. Ignore invalid entries with a warning.\n",
        "At the end:\n",
        "- If at least one valid number was entered, print `min = ___, max = ___`.\n",
        "- Otherwise print `No numbers entered.`\n",
        "- Use a `while True:` loop and `break` on `'done'`.\n"
      ]
    },
    {
      "cell_type": "code",
      "execution_count": null,
      "id": "e8afc3b3",
      "metadata": {
        "id": "e8afc3b3",
        "problem": 3
      },
      "outputs": [],
      "source": [
        "# Write your solution here\n",
        "minimum = None\n",
        "maximum = None\n",
        "\n",
        "# lists the minimum and maximum of numbers entered.\n",
        "while True:\n",
        "    user_input = input(\"Enter a number: ('done' to exit)\")\n",
        "    if user_input == 'done':\n",
        "        break # Exits loop if user enters done.\n",
        "    else:\n",
        "        # Updates minimum and maximum if applicable.\n",
        "        try:\n",
        "            num = int(user_input)\n",
        "            if minimum is None or num < minimum:\n",
        "                minimum = num\n",
        "            if maximum is None or num > maximum:\n",
        "                maximum = num\n",
        "        except ValueError:\n",
        "            print(\"Invalid input. Please enter a valid number.\") # Warns user if they entered invalid input.\n",
        "\n",
        "# minimum and maximum will print if numbers were entered.\n",
        "if minimum is not None and maximum is not None:\n",
        "        print(f\"min = {minimum}, max = {maximum}\")\n",
        "else:\n",
        "        print(\"No numbers entered.\")\n"
      ]
    },
    {
      "cell_type": "markdown",
      "id": "950eed12",
      "metadata": {
        "id": "950eed12"
      },
      "source": [
        "## 4) Skip & Stop (for + continue/break)\n",
        "Ask for a **positive integer `n`** (upper bound).\n",
        "- Loop from **1..n**.\n",
        "- **Skip** (do not print) numbers that are multiples of **4** using `continue`.\n",
        "- If you reach **42**, **print 42 and then stop** the loop using `break`.\n",
        "- Each printed number goes on its own line.\n",
        "- Validate input; print an error and stop if invalid.\n"
      ]
    },
    {
      "cell_type": "code",
      "execution_count": null,
      "id": "cfd13035",
      "metadata": {
        "id": "cfd13035",
        "problem": 4
      },
      "outputs": [],
      "source": [
        "# Write your solution here\n",
        "n = int(input(\"Enter a positive integer: \"))\n",
        "for num in range(1, n + 1):\n",
        "    if num % 4 == 0:\n",
        "        continue # Skips 4 and continues.\n",
        "    if num == 42:\n",
        "        print(num)\n",
        "        break # Exits loop after printing 42.\n",
        "    print(num)"
      ]
    },
    {
      "cell_type": "markdown",
      "id": "34d640d5",
      "metadata": {
        "id": "34d640d5"
      },
      "source": [
        "## 5) Even Sum with Entry Limit (while + try/except)\n",
        "Ask for a **target count `k`** (how many entries to read). Then read up to `k` user inputs (one per loop).\n",
        "- Convert each to `int` with `try/except`.\n",
        "- Keep a running **sum of even numbers only** (ignore odds and invalid entries).\n",
        "- After `k` inputs, print `even_sum = ___, valid_evens = ___`.\n",
        "- If `k` isn’t a positive integer, print an error and stop.\n"
      ]
    },
    {
      "cell_type": "code",
      "execution_count": null,
      "id": "a7717a90",
      "metadata": {
        "id": "a7717a90",
        "problem": 5
      },
      "outputs": [],
      "source": [
        "# Write your solution here\n",
        "\n",
        "# Prompts user to enter a target count.\n",
        "k = (input(\"Enter a target count: \"))\n",
        "\n",
        "# Converts to integer so it can check if it's positive\n",
        "try:\n",
        "    k = int(k)\n",
        "    if k <= 0:\n",
        "        print(\"Invalid input. Enter a positive integer.\")\n",
        "except ValueError:\n",
        "    print(\"Invalid input. Enter a valid integer.\")\n",
        "target_count = 0\n",
        "even_sum = 0\n",
        "valid_evens = 0\n",
        "\n",
        "while target_count < k: # As long as user doesn't reach target count it will run.\n",
        "    target_count += 1 # icremates target count\n",
        "    try:\n",
        "        # Checks if number is even and adds it up.\n",
        "        num = int(input(\"Enter a number: \"))\n",
        "        if num % 2 == 0:\n",
        "            even_sum += num\n",
        "            valid_evens += 1\n",
        "        if valid_evens == k:\n",
        "            break\n",
        "    except ValueError:\n",
        "        continue\n",
        "print(f\"even_sum = {even_sum}, valid_evens = {valid_evens}\")\n",
        ""
      ]
    },
    {
      "cell_type": "markdown",
      "source": [
        "## 6)  How long did you work on this quiz ? Was this quiz : hard, easy, just right ?"
      ],
      "metadata": {
        "id": "m9THXy-oU-Ud"
      },
      "id": "m9THXy-oU-Ud"
    },
    {
      "cell_type": "markdown",
      "source": [
        "Answer here :\n",
        "90 minutes\n",
        "I found this quiz just right.\n",
        "Thank you so much!\n",
        "- Miriam Stern"
      ],
      "metadata": {
        "id": "IzQbO93tVKDv"
      },
      "id": "IzQbO93tVKDv"
    }
  ],
  "metadata": {
    "kernelspec": {
      "display_name": "Python 3",
      "language": "python",
      "name": "python3"
    },
    "language_info": {
      "name": "python"
    },
    "colab": {
      "provenance": []
    }
  },
  "nbformat": 4,
  "nbformat_minor": 5
}